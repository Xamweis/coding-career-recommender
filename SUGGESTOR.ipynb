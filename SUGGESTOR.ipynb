{
 "cells": [
  {
   "cell_type": "code",
   "execution_count": 320,
   "metadata": {},
   "outputs": [],
   "source": [
    "import pandas as pd\n",
    "import numpy as np"
   ]
  },
  {
   "cell_type": "code",
   "execution_count": 321,
   "metadata": {},
   "outputs": [],
   "source": [
    "from sklearn.linear_model import LogisticRegression\n",
    "from sklearn.neural_network import MLPClassifier\n",
    "from sklearn.preprocessing import MinMaxScaler\n",
    "import pickle"
   ]
  },
  {
   "attachments": {},
   "cell_type": "markdown",
   "metadata": {},
   "source": [
    "Load model and scalers here:"
   ]
  },
  {
   "cell_type": "code",
   "execution_count": 322,
   "metadata": {},
   "outputs": [],
   "source": [
    "LR2 = pickle.load(open('models/LR2.sav', 'rb'))\n",
    "scaler_years = pickle.load(open('scaler/YearsCode.sav', 'rb'))\n",
    "scaler_comp = pickle.load(open('scaler/ConvertedCompYearly.sav', 'rb'))"
   ]
  },
  {
   "attachments": {},
   "cell_type": "markdown",
   "metadata": {},
   "source": [
    "Load dataset here:"
   ]
  },
  {
   "cell_type": "code",
   "execution_count": 331,
   "metadata": {},
   "outputs": [],
   "source": [
    "dummy = pd.read_csv('csv-data/dummy.csv').drop(['Zeitstempel'], axis=1)\n",
    "dummy = dummy.rename({\n",
    "    'How many years of coding experience do you have?':'YearsCode',\n",
    "    'Which annual salary do you approx. want in dollars? ':'ConvertedCompYearly'\n",
    "}, axis=1)"
   ]
  },
  {
   "cell_type": "code",
   "execution_count": 324,
   "metadata": {},
   "outputs": [],
   "source": [
    "survey = pd.read_csv('csv-data/response.csv').drop(['email:'], axis=1) #IRONHACK mid-project survey\n",
    "survey = survey.rename({\n",
    "    'How many years of coding experience do you have?':'YearsCode',\n",
    "    'Which annual salary do you approx. want in dollars? ':'ConvertedCompYearly'\n",
    "}, axis=1)"
   ]
  },
  {
   "cell_type": "code",
   "execution_count": 325,
   "metadata": {},
   "outputs": [],
   "source": [
    "data = pd.concat([dummy, survey], axis=0)"
   ]
  },
  {
   "cell_type": "code",
   "execution_count": 326,
   "metadata": {},
   "outputs": [],
   "source": [
    "def numerize(x):\n",
    "    if x == 'Less than 1 year':\n",
    "        return 0\n",
    "    elif x == 'More than 50 years':\n",
    "        return 51\n",
    "    else:\n",
    "        return x\n",
    "\n",
    "data['YearsCode'] = data['YearsCode'].fillna(0)\n",
    "data['YearsCode'] = data['YearsCode'].apply(numerize)\n",
    "data['YearsCode'] = data['YearsCode'].astype(int)\n",
    "data['ConvertedCompYearly'] = data['ConvertedCompYearly'].fillna(data['ConvertedCompYearly'].mean())\n",
    "data['ConvertedCompYearly'] = data['ConvertedCompYearly'].astype(float)"
   ]
  },
  {
   "cell_type": "code",
   "execution_count": 327,
   "metadata": {},
   "outputs": [],
   "source": [
    "def splitter(x: str):\n",
    "    x = x.lower()\n",
    "    return x.split('(')[0].strip()"
   ]
  },
  {
   "cell_type": "code",
   "execution_count": 328,
   "metadata": {},
   "outputs": [],
   "source": [
    "def encode_multichoices(dataseries, column, i=0):\n",
    "    df = pd.DataFrame(dataseries[column])\n",
    "    df = df[column].str.get_dummies(sep=';')\n",
    "    df.columns = list(map(splitter, df.columns))  \n",
    "    return df"
   ]
  },
  {
   "cell_type": "code",
   "execution_count": 329,
   "metadata": {},
   "outputs": [],
   "source": [
    "cats = pd.DataFrame([])\n",
    "i = 0\n",
    "for col in data.select_dtypes(include=object).columns:\n",
    "    encoded = encode_multichoices(data, col)\n",
    "    encoded = encoded.add_prefix(f'{i}_')\n",
    "    cats = pd.concat([cats, encoded], axis=1)\n",
    "    i += 1\n",
    "\n",
    "data['YearsCode'] = scaler_years.transform(pd.DataFrame(data['YearsCode']))\n",
    "data['ConvertedCompYearly'] = scaler_comp.transform(pd.DataFrame(data['ConvertedCompYearly']))\n",
    "\n",
    "# concat with numerical\n",
    "treated = pd.concat([data.select_dtypes(include=np.number), cats], axis=1)"
   ]
  },
  {
   "attachments": {},
   "cell_type": "markdown",
   "metadata": {},
   "source": [
    "Run data trough model:"
   ]
  },
  {
   "cell_type": "code",
   "execution_count": 330,
   "metadata": {},
   "outputs": [
    {
     "data": {
      "text/html": [
       "<div>\n",
       "<style scoped>\n",
       "    .dataframe tbody tr th:only-of-type {\n",
       "        vertical-align: middle;\n",
       "    }\n",
       "\n",
       "    .dataframe tbody tr th {\n",
       "        vertical-align: top;\n",
       "    }\n",
       "\n",
       "    .dataframe thead th {\n",
       "        text-align: right;\n",
       "    }\n",
       "</style>\n",
       "<table border=\"1\" class=\"dataframe\">\n",
       "  <thead>\n",
       "    <tr style=\"text-align: right;\">\n",
       "      <th></th>\n",
       "      <th>0</th>\n",
       "    </tr>\n",
       "  </thead>\n",
       "  <tbody>\n",
       "    <tr>\n",
       "      <th>1</th>\n",
       "      <td>Developer, back-end</td>\n",
       "    </tr>\n",
       "  </tbody>\n",
       "</table>\n",
       "</div>"
      ],
      "text/plain": [
       "                     0\n",
       "1  Developer, back-end"
      ]
     },
     "execution_count": 330,
     "metadata": {},
     "output_type": "execute_result"
    }
   ],
   "source": [
    "predictions = pd.DataFrame(LR2.predict(treated))[1:]\n",
    "predictions"
   ]
  }
 ],
 "metadata": {
  "kernelspec": {
   "display_name": "Python 3",
   "language": "python",
   "name": "python3"
  },
  "language_info": {
   "codemirror_mode": {
    "name": "ipython",
    "version": 3
   },
   "file_extension": ".py",
   "mimetype": "text/x-python",
   "name": "python",
   "nbconvert_exporter": "python",
   "pygments_lexer": "ipython3",
   "version": "3.10.6 (main, Nov 14 2022, 16:10:14) [GCC 11.3.0]"
  },
  "orig_nbformat": 4,
  "vscode": {
   "interpreter": {
    "hash": "e7370f93d1d0cde622a1f8e1c04877d8463912d04d973331ad4851f04de6915a"
   }
  }
 },
 "nbformat": 4,
 "nbformat_minor": 2
}
