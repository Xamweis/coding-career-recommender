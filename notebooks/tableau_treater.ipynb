{
 "cells": [
  {
   "cell_type": "code",
   "execution_count": 1,
   "metadata": {},
   "outputs": [],
   "source": [
    "import pandas as pd\n",
    "import numpy as np\n",
    "from scipy import stats"
   ]
  },
  {
   "cell_type": "code",
   "execution_count": 2,
   "metadata": {},
   "outputs": [],
   "source": [
    "data = pd.read_csv('../stack-overflow-developer-survey-2022/survey_results_public.csv')\n",
    "data = data.dropna(subset=['DevType'])"
   ]
  },
  {
   "cell_type": "code",
   "execution_count": 3,
   "metadata": {},
   "outputs": [],
   "source": [
    "def job_cluster(x):\n",
    "    # if student/other in multiple type answer, delete student/other\n",
    "    if 'Student' in x:\n",
    "        x = x.replace('Student;', '')\n",
    "        x = x.replace(';Student', '')\n",
    "    if 'Other (please specify):' in x:\n",
    "        x = x.replace('Other (please specify):;', '')\n",
    "        x = x.replace(';Other (please specify):', '')\n",
    "\n",
    "    \n",
    "    # order of processing is important (from cross-domain to specific)\n",
    "    if 'Educator' in x:\n",
    "        return 'Educator'\n",
    "    elif any(word in x for word in ['manager', 'Executive']):\n",
    "        return 'Manager'\n",
    "    elif any(word in x for word in ['Data ', 'data', 'Marketing']):\n",
    "        return 'Data'\n",
    "    elif 'full-stack' in x:\n",
    "        return 'Developer FS'\n",
    "    elif 'game' in x:\n",
    "        return 'Game Dev'\n",
    "    elif any(word in x for word in ['front-end', 'Designer']):\n",
    "        return 'Developer FE'\n",
    "    elif 'back-end' in x:\n",
    "        return 'Developer BE'\n",
    "    elif 'Developer,' in x:\n",
    "        return 'Testing/Apps/mobile'\n",
    "    elif 'admin' in x:\n",
    "        return 'Admin'\n",
    "    elif any(word in x for word in ['DevOps', 'reliability']):\n",
    "        return 'DevOps'\n",
    "    elif any(word in x for word in ['Security', 'Blockchain', 'Cloud']):\n",
    "        return 'Security/Cloud'\n",
    "    elif any(word in x for word in ['researcher', 'Scientist']):\n",
    "        return 'Researching'\n",
    "    else:\n",
    "        return x\n",
    "\n",
    "data['TYPE'] = data['DevType'].apply(job_cluster)"
   ]
  },
  {
   "cell_type": "code",
   "execution_count": 4,
   "metadata": {},
   "outputs": [],
   "source": [
    "def numerize(x):\n",
    "    if x == 'Less than 1 year':\n",
    "        return 0\n",
    "    elif x == 'More than 50 years':\n",
    "        return 51\n",
    "    else:\n",
    "        return x"
   ]
  },
  {
   "cell_type": "code",
   "execution_count": 5,
   "metadata": {},
   "outputs": [
    {
     "name": "stderr",
     "output_type": "stream",
     "text": [
      "/tmp/ipykernel_110848/1562436368.py:2: SettingWithCopyWarning: \n",
      "A value is trying to be set on a copy of a slice from a DataFrame.\n",
      "Try using .loc[row_indexer,col_indexer] = value instead\n",
      "\n",
      "See the caveats in the documentation: https://pandas.pydata.org/pandas-docs/stable/user_guide/indexing.html#returning-a-view-versus-a-copy\n",
      "  devs['YearsCode'] = devs['YearsCode'].fillna(0)\n",
      "/tmp/ipykernel_110848/1562436368.py:3: SettingWithCopyWarning: \n",
      "A value is trying to be set on a copy of a slice from a DataFrame.\n",
      "Try using .loc[row_indexer,col_indexer] = value instead\n",
      "\n",
      "See the caveats in the documentation: https://pandas.pydata.org/pandas-docs/stable/user_guide/indexing.html#returning-a-view-versus-a-copy\n",
      "  devs['YearsCode'] = devs['YearsCode'].apply(numerize)\n"
     ]
    }
   ],
   "source": [
    "devs = data[['TYPE', 'YearsCode', 'MainBranch', 'Country', 'ConvertedCompYearly', 'Employment']]\n",
    "devs['YearsCode'] = devs['YearsCode'].fillna(0)\n",
    "devs['YearsCode'] = devs['YearsCode'].apply(numerize)\n",
    "devs.head(1)\n",
    "devs.dropna(subset=['ConvertedCompYearly']).to_csv('../csv-data/sals.csv')"
   ]
  },
  {
   "cell_type": "code",
   "execution_count": 6,
   "metadata": {},
   "outputs": [
    {
     "name": "stderr",
     "output_type": "stream",
     "text": [
      "/home/mabioo/.local/lib/python3.10/site-packages/pandas/core/groupby/groupby.py:1649: FutureWarning: Unlike other reduction functions (e.g. `skew`, `kurtosis`), the default behavior of `mode` typically preserves the axis it acts along. In SciPy 1.11.0, this behavior will change: the default value of `keepdims` will become False, the `axis` over which the statistic is taken will be eliminated, and the value None will no longer be accepted. Set `keepdims` to True or False to avoid this warning.\n",
      "  f = lambda x: func(x, *args, **kwargs)\n",
      "/home/mabioo/.local/lib/python3.10/site-packages/scipy/stats/_stats_py.py:112: RuntimeWarning: The input array could not be properly checked for nan values. nan values will be ignored.\n",
      "  warnings.warn(\"The input array could not be properly \"\n"
     ]
    },
    {
     "data": {
      "text/html": [
       "<div>\n",
       "<style scoped>\n",
       "    .dataframe tbody tr th:only-of-type {\n",
       "        vertical-align: middle;\n",
       "    }\n",
       "\n",
       "    .dataframe tbody tr th {\n",
       "        vertical-align: top;\n",
       "    }\n",
       "\n",
       "    .dataframe thead th {\n",
       "        text-align: right;\n",
       "    }\n",
       "</style>\n",
       "<table border=\"1\" class=\"dataframe\">\n",
       "  <thead>\n",
       "    <tr style=\"text-align: right;\">\n",
       "      <th></th>\n",
       "      <th>ConvertedCompYearly</th>\n",
       "      <th>TYPE</th>\n",
       "    </tr>\n",
       "    <tr>\n",
       "      <th>Country</th>\n",
       "      <th></th>\n",
       "      <th></th>\n",
       "    </tr>\n",
       "  </thead>\n",
       "  <tbody>\n",
       "    <tr>\n",
       "      <th>Afghanistan</th>\n",
       "      <td>33914.666667</td>\n",
       "      <td>([Developer FS], [14])</td>\n",
       "    </tr>\n",
       "    <tr>\n",
       "      <th>Albania</th>\n",
       "      <td>24895.148148</td>\n",
       "      <td>([Developer FS], [20])</td>\n",
       "    </tr>\n",
       "    <tr>\n",
       "      <th>Algeria</th>\n",
       "      <td>12732.888889</td>\n",
       "      <td>([Developer FS], [10])</td>\n",
       "    </tr>\n",
       "    <tr>\n",
       "      <th>Andorra</th>\n",
       "      <td>98003.125000</td>\n",
       "      <td>([Developer BE], [3])</td>\n",
       "    </tr>\n",
       "    <tr>\n",
       "      <th>Angola</th>\n",
       "      <td>6222.750000</td>\n",
       "      <td>([Developer FS], [4])</td>\n",
       "    </tr>\n",
       "    <tr>\n",
       "      <th>...</th>\n",
       "      <td>...</td>\n",
       "      <td>...</td>\n",
       "    </tr>\n",
       "    <tr>\n",
       "      <th>Venezuela, Bolivarian Republic of...</th>\n",
       "      <td>17079.400000</td>\n",
       "      <td>([Developer FS], [37])</td>\n",
       "    </tr>\n",
       "    <tr>\n",
       "      <th>Viet Nam</th>\n",
       "      <td>38093.537634</td>\n",
       "      <td>([Developer FS], [76])</td>\n",
       "    </tr>\n",
       "    <tr>\n",
       "      <th>Yemen</th>\n",
       "      <td>17464.666667</td>\n",
       "      <td>([Developer FS], [4])</td>\n",
       "    </tr>\n",
       "    <tr>\n",
       "      <th>Zambia</th>\n",
       "      <td>8452.000000</td>\n",
       "      <td>([Developer FS], [8])</td>\n",
       "    </tr>\n",
       "    <tr>\n",
       "      <th>Zimbabwe</th>\n",
       "      <td>87596.000000</td>\n",
       "      <td>([Developer FS], [11])</td>\n",
       "    </tr>\n",
       "  </tbody>\n",
       "</table>\n",
       "<p>178 rows × 2 columns</p>\n",
       "</div>"
      ],
      "text/plain": [
       "                                      ConvertedCompYearly  \\\n",
       "Country                                                     \n",
       "Afghanistan                                  33914.666667   \n",
       "Albania                                      24895.148148   \n",
       "Algeria                                      12732.888889   \n",
       "Andorra                                      98003.125000   \n",
       "Angola                                        6222.750000   \n",
       "...                                                   ...   \n",
       "Venezuela, Bolivarian Republic of...         17079.400000   \n",
       "Viet Nam                                     38093.537634   \n",
       "Yemen                                        17464.666667   \n",
       "Zambia                                        8452.000000   \n",
       "Zimbabwe                                     87596.000000   \n",
       "\n",
       "                                                        TYPE  \n",
       "Country                                                       \n",
       "Afghanistan                           ([Developer FS], [14])  \n",
       "Albania                               ([Developer FS], [20])  \n",
       "Algeria                               ([Developer FS], [10])  \n",
       "Andorra                                ([Developer BE], [3])  \n",
       "Angola                                 ([Developer FS], [4])  \n",
       "...                                                      ...  \n",
       "Venezuela, Bolivarian Republic of...  ([Developer FS], [37])  \n",
       "Viet Nam                              ([Developer FS], [76])  \n",
       "Yemen                                  ([Developer FS], [4])  \n",
       "Zambia                                 ([Developer FS], [8])  \n",
       "Zimbabwe                              ([Developer FS], [11])  \n",
       "\n",
       "[178 rows x 2 columns]"
      ]
     },
     "execution_count": 6,
     "metadata": {},
     "output_type": "execute_result"
    }
   ],
   "source": [
    "sals = devs.groupby(['Country']).agg({'ConvertedCompYearly':np.mean, 'TYPE':stats.mode})\n",
    "sals"
   ]
  },
  {
   "cell_type": "code",
   "execution_count": 7,
   "metadata": {},
   "outputs": [],
   "source": [
    "def splitter(x: str):\n",
    "    return x.split('(')[0].rstrip()\n",
    "\n",
    "def encode_multichoices(column):\n",
    "    df = pd.DataFrame(data[column])\n",
    "    df = df[column].str.get_dummies(sep=';')\n",
    "    df = df.drop(['Other (Please specify):'], axis=1, errors='ignore')\n",
    "    df = df.drop(['Other (please specify):'], axis=1, errors='ignore')\n",
    "    df.columns = list(map(splitter, df.columns))  \n",
    "    # df = df.add_prefix(f'{column}_')\n",
    "    return df"
   ]
  },
  {
   "cell_type": "code",
   "execution_count": 8,
   "metadata": {},
   "outputs": [],
   "source": [
    "code = encode_multichoices('DevType')\n",
    "devs = pd.concat([code, devs], axis=1)\n",
    "\n",
    "devs.to_csv('../csv-data/rudi.csv')"
   ]
  }
 ],
 "metadata": {
  "kernelspec": {
   "display_name": "Python 3",
   "language": "python",
   "name": "python3"
  },
  "language_info": {
   "codemirror_mode": {
    "name": "ipython",
    "version": 3
   },
   "file_extension": ".py",
   "mimetype": "text/x-python",
   "name": "python",
   "nbconvert_exporter": "python",
   "pygments_lexer": "ipython3",
   "version": "3.10.6 (main, Nov 14 2022, 16:10:14) [GCC 11.3.0]"
  },
  "orig_nbformat": 4,
  "vscode": {
   "interpreter": {
    "hash": "e7370f93d1d0cde622a1f8e1c04877d8463912d04d973331ad4851f04de6915a"
   }
  }
 },
 "nbformat": 4,
 "nbformat_minor": 2
}
